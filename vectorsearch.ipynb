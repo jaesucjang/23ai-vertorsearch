{
 "cells": [
  {
   "cell_type": "markdown",
   "id": "e5df30a8-7f4c-4866-a12a-3f4cdb2a6340",
   "metadata": {},
   "source": [
    "# 0. 실습 환경 구성"
   ]
  },
  {
   "cell_type": "markdown",
   "id": "e576a075-7665-4c3a-9d77-af8af450c463",
   "metadata": {},
   "source": [
    "## 1. 실습 패키지 설치"
   ]
  },
  {
   "cell_type": "code",
   "execution_count": 1,
   "id": "8a07d29f-5ded-4f99-9f0c-c318bb244bd6",
   "metadata": {
    "tags": []
   },
   "outputs": [],
   "source": [
    "!pip3 install -qU python-dotenv oci oracledb PyPDF2 langchain langchain-community"
   ]
  },
  {
   "cell_type": "markdown",
   "id": "82473471-618c-4aa6-9be3-eda05e72d7ec",
   "metadata": {},
   "source": [
    "## 2. 환경 변수 로딩"
   ]
  },
  {
   "cell_type": "code",
   "execution_count": 2,
   "id": "effab74b-3bb4-4b19-b5cc-c482d8ee59ac",
   "metadata": {
    "tags": []
   },
   "outputs": [
    {
     "data": {
      "text/plain": [
       "True"
      ]
     },
     "execution_count": 2,
     "metadata": {},
     "output_type": "execute_result"
    }
   ],
   "source": [
    "from dotenv import load_dotenv\n",
    "\n",
    "load_dotenv(verbose=True, override=True)"
   ]
  },
  {
   "cell_type": "code",
   "execution_count": 35,
   "id": "7e915736-d7a0-48a2-8747-791d4b51e787",
   "metadata": {
    "tags": []
   },
   "outputs": [],
   "source": [
    "import os \n",
    "\n",
    "GENAI_SERVICE_ENDPOINT = os.environ[\"GENAI_SERVICE_ENDPOINT\"]\n",
    "COMPARMENT_ID=os.environ[\"COMPARMENT_ID\"]\n",
    "WALLET_DIR=os.environ[\"WALLET_DIR\"]\n",
    "WALLET_PASSWORD=os.environ[\"WALLET_PASSWORD\"]\n",
    "DB_USER_PASSWORD=os.environ[\"DB_USER_PASSWORD\"]\n",
    "DB_USER =os.environ[\"DB_USER\"]\n",
    "DB_URL =os.environ[\"DB_URL\"]\n",
    "DSN =os.environ[\"DSN\"]\n",
    "TABLE= os.environ[\"TABLE\"]\n",
    "DBURL= os.environ[\"DBURL\"]"
   ]
  },
  {
   "cell_type": "code",
   "execution_count": 36,
   "id": "0ec1afc1",
   "metadata": {},
   "outputs": [
    {
     "name": "stdout",
     "output_type": "stream",
     "text": [
      "Current Database Date: 2025-03-14 07:14:42\n"
     ]
    }
   ],
   "source": [
    "with connection.cursor() as cursor:\n",
    "    cursor.execute(\"SELECT sysdate FROM dual\")\n",
    "    result = cursor.fetchone()\n",
    "    print(\"Current Database Date:\", result[0])"
   ]
  },
  {
   "cell_type": "code",
   "execution_count": 4,
   "id": "ef4b5bc6",
   "metadata": {},
   "outputs": [
    {
     "data": {
      "text/plain": [
       "('/home/opc/genai-agent/adb_wallet',\n",
       " '(description=  (retry_count=3)(retry_delay=3)(address=(protocol=tcps)(port=1521)(host=d6aqmjs6.adb.us-chicago-1.oraclecloud.com))(connect_data=(service_name=g13fc7c96b5ee55_agentvs_medium.adb.oraclecloud.com))(security=(ssl_server_dn_match=no)))')"
      ]
     },
     "execution_count": 4,
     "metadata": {},
     "output_type": "execute_result"
    }
   ],
   "source": [
    "WALLET_DIR , DBURL"
   ]
  },
  {
   "cell_type": "markdown",
   "id": "ffb3a1d4-fb35-4c79-9b71-efe9c547c01f",
   "metadata": {},
   "source": [
    "## 데이터베이스 접속 테스트"
   ]
  },
  {
   "cell_type": "code",
   "execution_count": 34,
   "id": "e412b586-d206-4fff-8541-2b3d252aabe7",
   "metadata": {
    "tags": []
   },
   "outputs": [],
   "source": [
    "import warnings\n",
    "warnings.filterwarnings(\"ignore\")"
   ]
  },
  {
   "cell_type": "code",
   "execution_count": 37,
   "id": "01693dae-77ca-466f-9ede-42080abe8088",
   "metadata": {
    "tags": []
   },
   "outputs": [
    {
     "name": "stdout",
     "output_type": "stream",
     "text": [
      "Current Database Date: 2025-03-14 07:14:56\n",
      "Connection version: 23.7.0.25.3\n"
     ]
    }
   ],
   "source": [
    "import oracledb\n",
    "try:\n",
    "    connection=oracledb.connect(\n",
    "         config_dir=WALLET_DIR,\n",
    "         user=DB_USER,\n",
    "         password=DB_USER_PASSWORD,\n",
    "         dsn=DSN,\n",
    "         wallet_location=WALLET_DIR,\n",
    "         wallet_password=WALLET_PASSWORD)\n",
    "    with connection.cursor() as cursor:\n",
    "        cursor.execute(\"SELECT sysdate FROM dual\")\n",
    "        result = cursor.fetchone()\n",
    "        print(\"Current Database Date:\", result[0])\n",
    "    print(\"Connection version:\", connection.version)\n",
    "except oracledb.DatabaseError as e:\n",
    "    print(f\"DatabaseError: {e}\")"
   ]
  },
  {
   "cell_type": "markdown",
   "id": "872e9dd8-e68e-4335-8f99-a900aaae8659",
   "metadata": {},
   "source": [
    "## OCI Gen AI 기본 설정 테스트"
   ]
  },
  {
   "cell_type": "code",
   "execution_count": 7,
   "id": "577cb01a",
   "metadata": {},
   "outputs": [],
   "source": [
    "import oci\n",
    "\n",
    "# Default config file and profil\n",
    "default_config = oci.config.from_file()\n",
    "\n"
   ]
  },
  {
   "cell_type": "code",
   "execution_count": 9,
   "id": "fa985693-e8f5-4105-a78e-a98a5c208e35",
   "metadata": {
    "tags": []
   },
   "outputs": [],
   "source": [
    "from langchain_community.chat_models.oci_generative_ai import ChatOCIGenAI\n",
    "\n",
    "oci_llm = ChatOCIGenAI(\n",
    "    model_id=\"cohere.command-r-plus\",\n",
    "    service_endpoint=GENAI_SERVICE_ENDPOINT,\n",
    "    compartment_id=COMPARMENT_ID)"
   ]
  },
  {
   "cell_type": "markdown",
   "id": "89b6ce2c-2d47-4ea1-9539-2cb7c361f8ad",
   "metadata": {},
   "source": [
    "## OCI Gen AI 임베딩 기본 설정 테스트"
   ]
  },
  {
   "cell_type": "code",
   "execution_count": 10,
   "id": "431448ef-2f98-4c15-8afa-2b45db4d0db2",
   "metadata": {
    "tags": []
   },
   "outputs": [],
   "source": [
    "from langchain_community.embeddings import OCIGenAIEmbeddings\n",
    "\n",
    "embeddings = OCIGenAIEmbeddings(\n",
    "    model_id=\"cohere.embed-multilingual-v3.0\",\n",
    "    service_endpoint=GENAI_SERVICE_ENDPOINT,\n",
    "    compartment_id=COMPARMENT_ID,\n",
    ")"
   ]
  },
  {
   "cell_type": "code",
   "execution_count": 12,
   "id": "6c00a0d9-fba6-460a-88ed-d14d72f63707",
   "metadata": {
    "tags": []
   },
   "outputs": [
    {
     "data": {
      "text/plain": [
       "(1024, [-0.0027580261, 0.018997192, 0.002828598, -0.025604248, 0.042877197])"
      ]
     },
     "execution_count": 12,
     "metadata": {},
     "output_type": "execute_result"
    }
   ],
   "source": [
    "len(response), response[:5]"
   ]
  },
  {
   "cell_type": "code",
   "execution_count": 23,
   "id": "efa9071c-8270-4a22-a35b-a711d7179f53",
   "metadata": {},
   "outputs": [],
   "source": [
    "query = \"삼차방정식의 근과 계수의 관계\"\n",
    "query_vec = embeddings.embed_query(query)"
   ]
  },
  {
   "cell_type": "markdown",
   "id": "a205df36",
   "metadata": {},
   "source": [
    "# load docs\n"
   ]
  },
  {
   "cell_type": "code",
   "execution_count": 27,
   "id": "a646acdf",
   "metadata": {},
   "outputs": [],
   "source": [
    "import logging\n",
    "from langchain_core.documents import Document\n",
    "from langchain.document_loaders import UnstructuredPowerPointLoader\n",
    "\n",
    "import os\n",
    "\n",
    "from langchain_community.document_loaders import CSVLoader\n",
    "\n",
    "file_path=\"고등학교 수학개념 - math_high_school_category_202502211455.csv\"\n",
    "loader = CSVLoader(file_path)\n"
   ]
  },
  {
   "cell_type": "code",
   "execution_count": 28,
   "id": "995398d1",
   "metadata": {},
   "outputs": [],
   "source": [
    "docs = loader.load()\n",
    "docs[1:5]"
   ]
  },
  {
   "cell_type": "code",
   "execution_count": 41,
   "id": "eb0ecff9",
   "metadata": {},
   "outputs": [
    {
     "data": {
      "text/plain": [
       "'superlearning'"
      ]
     },
     "execution_count": 41,
     "metadata": {},
     "output_type": "execute_result"
    }
   ],
   "source": [
    "\n",
    "table_name=\"superlearning\"\n",
    "table_name"
   ]
  },
  {
   "cell_type": "code",
   "execution_count": 42,
   "id": "a27a6f72",
   "metadata": {},
   "outputs": [],
   "source": [
    "from langchain_community.vectorstores.oraclevs import OracleVS\n",
    "from langchain_community.vectorstores.utils import DistanceStrategy\n",
    "from langchain_community.embeddings import OCIGenAIEmbeddings\n",
    "from langchain_community.vectorstores import oraclevs\n",
    "import oracledb\n",
    "\n",
    "oracle_vs = OracleVS.from_documents(documents=docs,  \n",
    "                        embedding=embeddings,\n",
    "                        client=connection,\n",
    "                        table_name=table_name , \n",
    "                        distance_strategy=DistanceStrategy.COSINE)\n"
   ]
  },
  {
   "cell_type": "code",
   "execution_count": 43,
   "id": "1cfd604c",
   "metadata": {},
   "outputs": [],
   "source": [
    "query = \"삼차방정식의 근과 계수의 관계\"\n",
    "query_vec = embeddings.embed_query(query)"
   ]
  },
  {
   "cell_type": "code",
   "execution_count": 47,
   "id": "73c1b8f0",
   "metadata": {},
   "outputs": [
    {
     "name": "stdout",
     "output_type": "stream",
     "text": [
      "Document 1: id: 1606\n",
      "name: 삼차방정식의 근과 계수의 관계\n",
      "Document 2: id: 1412\n",
      "name: 이차방정식의 근과 계수의 관계\n",
      "Document 3: id: 1607\n",
      "name: 세 수를 근으로 하는 삼차방정식\n",
      "Document 4: id: 3615\n",
      "name: 삼각함수 사이의 관계\n",
      "Document 5: id: 4902\n",
      "name: 삼차방정식의 근의 판별\n"
     ]
    }
   ],
   "source": [
    "retriever = oracle_vs.as_retriever(search_kwargs={\"k\": 5})\n",
    "\n",
    "# 🔹 검색 실행\n",
    "query = \"삼차방정식의 근과 계수의 관계\"\n",
    "documents = retriever.invoke(query)\n",
    "\n",
    "# 🔹 검색된 문서 출력\n",
    "for i, doc in enumerate(documents):\n",
    "    print(f\"Document {i+1}: {doc.page_content}\")\n",
    "    #print(f\" Source \\n {doc.metadata}\")"
   ]
  }
 ],
 "metadata": {
  "kernelspec": {
   "display_name": "Python 3",
   "language": "python",
   "name": "python3"
  },
  "language_info": {
   "codemirror_mode": {
    "name": "ipython",
    "version": 3
   },
   "file_extension": ".py",
   "mimetype": "text/x-python",
   "name": "python",
   "nbconvert_exporter": "python",
   "pygments_lexer": "ipython3",
   "version": "3.11.11"
  }
 },
 "nbformat": 4,
 "nbformat_minor": 5
}
